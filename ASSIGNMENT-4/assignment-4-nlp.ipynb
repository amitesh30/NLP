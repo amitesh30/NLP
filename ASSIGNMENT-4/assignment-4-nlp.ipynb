{
 "cells": [
  {
   "cell_type": "code",
   "execution_count": 1,
   "metadata": {
    "id": "U7pggPlmGtVo",
    "outputId": "7013bd8f-20c8-4aa2-82cf-a75cb553c8d2"
   },
   "outputs": [],
   "source": [
    "!pip install -U transformers -q\n",
    "!pip install -U accelerate -q\n",
    "!pip install keras_nlp -q\n",
    "!pip install datasets -q\n",
    "!pip install huggingface-hub -q\n",
    "!pip install rouge-score -q"
   ]
  },
  {
   "cell_type": "code",
   "execution_count": 2,
   "metadata": {},
   "outputs": [
    {
     "name": "stdout",
     "output_type": "stream",
     "text": [
      "Requirement already satisfied: nltk in c:\\users\\amite\\appdata\\local\\programs\\python\\python311\\lib\\site-packages (3.8.1)\n",
      "Requirement already satisfied: click in c:\\users\\amite\\appdata\\local\\programs\\python\\python311\\lib\\site-packages (from nltk) (8.1.7)\n",
      "Requirement already satisfied: joblib in c:\\users\\amite\\appdata\\local\\programs\\python\\python311\\lib\\site-packages (from nltk) (1.3.2)\n",
      "Requirement already satisfied: regex>=2021.8.3 in c:\\users\\amite\\appdata\\local\\programs\\python\\python311\\lib\\site-packages (from nltk) (2023.8.8)\n",
      "Requirement already satisfied: tqdm in c:\\users\\amite\\appdata\\local\\programs\\python\\python311\\lib\\site-packages (from nltk) (4.66.1)\n",
      "Requirement already satisfied: colorama in c:\\users\\amite\\appdata\\roaming\\python\\python311\\site-packages (from click->nltk) (0.4.6)\n",
      "Note: you may need to restart the kernel to use updated packages.\n"
     ]
    }
   ],
   "source": [
    "pip install nltk\n"
   ]
  },
  {
   "cell_type": "code",
   "execution_count": 3,
   "metadata": {},
   "outputs": [
    {
     "ename": "ModuleNotFoundError",
     "evalue": "No module named 'wandb'",
     "output_type": "error",
     "traceback": [
      "\u001b[1;31m---------------------------------------------------------------------------\u001b[0m",
      "\u001b[1;31mModuleNotFoundError\u001b[0m                       Traceback (most recent call last)",
      "Cell \u001b[1;32mIn[3], line 1\u001b[0m\n\u001b[1;32m----> 1\u001b[0m \u001b[38;5;28;01mimport\u001b[39;00m \u001b[38;5;21;01mwandb\u001b[39;00m\n",
      "\u001b[1;31mModuleNotFoundError\u001b[0m: No module named 'wandb'"
     ]
    }
   ],
   "source": [
    "import wandb"
   ]
  },
  {
   "cell_type": "code",
   "execution_count": null,
   "metadata": {},
   "outputs": [],
   "source": [
    "from kaggle_secrets import UserSecretsClient\n",
    "user_secrets = UserSecretsClient()\n",
    "secret_value_0 = user_secrets.get_secret(\"wandb-api-key\")\n",
    "wandb.login(key=secret_value_0)"
   ]
  },
  {
   "cell_type": "code",
   "execution_count": null,
   "metadata": {
    "id": "1rqlYUjUHFa-"
   },
   "outputs": [],
   "source": [
    "import nltk\n",
    "nltk.download(\"all\",quiet=True)\n",
    "import numpy as np\n",
    "import tensorflow as tf\n",
    "from tensorflow import keras"
   ]
  },
  {
   "cell_type": "code",
   "execution_count": null,
   "metadata": {
    "id": "bzwT24F_HFds",
    "outputId": "25f01219-f52a-4427-8daa-8ed998ccc84e"
   },
   "outputs": [],
   "source": [
    "from datasets import load_dataset\n",
    "dataset = load_dataset(\"xsum\", split=\"train\")\n",
    "print(dataset)"
   ]
  },
  {
   "cell_type": "code",
   "execution_count": null,
   "metadata": {
    "id": "Edx252RsHFgC",
    "outputId": "e176a3e8-61b6-440d-a603-dad1dfa52575"
   },
   "outputs": [],
   "source": [
    "print(dataset[0])"
   ]
  },
  {
   "cell_type": "code",
   "execution_count": null,
   "metadata": {
    "id": "7AmLHJNDHFia"
   },
   "outputs": [],
   "source": [
    "datasets = dataset.train_test_split(train_size=0.05,test_size=0.02)"
   ]
  },
  {
   "cell_type": "code",
   "execution_count": null,
   "metadata": {
    "id": "XVLDX2d6HFok",
    "outputId": "a74739f5-0231-4cef-fd69-7ce6ac22d38d"
   },
   "outputs": [],
   "source": [
    "print(len(datasets['train']))\n",
    "print(len(datasets['test']))"
   ]
  },
  {
   "cell_type": "code",
   "execution_count": null,
   "metadata": {
    "id": "Yvg99KifHFrA"
   },
   "outputs": [],
   "source": [
    "MAX_INPUT_LENGTH = 512\n",
    "MIN_TARGET_LENGTH = 5\n",
    "MAX_TARGET_LENGTH = 128\n",
    "BATCH_SIZE = 8\n",
    "LEARNING_RATE = 2e-5\n",
    "MAX_EPOCHS = 100\n",
    "MODEL_CHECKPOINT = \"t5-small\" # Name of Model"
   ]
  },
  {
   "cell_type": "code",
   "execution_count": null,
   "metadata": {
    "id": "xVF8o1BHHFt5",
    "outputId": "b2e5a769-ee4d-4dc3-c936-7c22e4ffc07b"
   },
   "outputs": [],
   "source": [
    "from transformers import AutoTokenizer\n",
    "tokenizer = AutoTokenizer.from_pretrained(MODEL_CHECKPOINT)"
   ]
  },
  {
   "cell_type": "code",
   "execution_count": null,
   "metadata": {
    "id": "uImfN7ltHZGF"
   },
   "outputs": [],
   "source": [
    "if MODEL_CHECKPOINT in [\"t5-small\", \"t5-base\"]:\n",
    "  prefix = \"summarize: \"\n",
    "else:\n",
    "  prefix = \"\""
   ]
  },
  {
   "cell_type": "code",
   "execution_count": null,
   "metadata": {
    "id": "N_ewkWBUHZIy"
   },
   "outputs": [],
   "source": [
    "#Preprocessing\n",
    "def preprocess_function(examples):\n",
    "  inputs = [prefix + doc for doc in examples[\"document\"]]\n",
    "  model_inputs = tokenizer(inputs, max_length=MAX_INPUT_LENGTH,truncation=True)\n",
    "  # Setup the tokenizer for targets\n",
    "  with tokenizer.as_target_tokenizer():\n",
    "    labels = tokenizer(examples[\"summary\"], max_length=MAX_TARGET_LENGTH, truncation=True)\n",
    "  model_inputs[\"labels\"] = labels[\"input_ids\"]\n",
    "  return model_inputs"
   ]
  },
  {
   "cell_type": "code",
   "execution_count": null,
   "metadata": {
    "id": "AyHAslMoSWJH"
   },
   "outputs": [],
   "source": [
    "train = datasets['train']\n",
    "test = datasets['test']"
   ]
  },
  {
   "cell_type": "code",
   "execution_count": null,
   "metadata": {
    "id": "DTxeSuIaHZMu",
    "outputId": "e1c95828-e887-49e4-ee74-eee58ea68cc4"
   },
   "outputs": [],
   "source": [
    "tokenized_train = train.map(preprocess_function, batched=True)\n",
    "tokenized_test = test.map(preprocess_function, batched=True)"
   ]
  },
  {
   "cell_type": "code",
   "execution_count": null,
   "metadata": {
    "id": "fuW7cUfSUgVO",
    "outputId": "7eb7c8ab-fcdc-4dfc-9d90-5493be9d59b2"
   },
   "outputs": [],
   "source": [
    "import transformers\n",
    "from transformers import TFAutoModelForSeq2SeqLM, AutoModelForSeq2SeqLM,DataCollatorForSeq2Seq, Seq2SeqTrainingArguments, Seq2SeqTrainer\n",
    "model = AutoModelForSeq2SeqLM.from_pretrained(MODEL_CHECKPOINT)\n",
    "data_collator = DataCollatorForSeq2Seq(tokenizer, model=model)"
   ]
  },
  {
   "cell_type": "code",
   "execution_count": null,
   "metadata": {
    "id": "hcTKnRQxRa_N",
    "outputId": "106128b0-3322-4feb-ec2b-d1a47037b887"
   },
   "outputs": [],
   "source": [
    "import nltk\n",
    "import numpy as np\n",
    "from datasets import load_metric\n",
    "\n",
    "metric = load_metric(\"rouge\")\n",
    "\n",
    "def compute_metrics(eval_pred):\n",
    "    predictions, labels = eval_pred\n",
    "\n",
    "    # Replace -100 in the predictions as we can't decode them.\n",
    "    preds = np.where(predictions != -100, predictions, tokenizer.pad_token_id)\n",
    "    decoded_preds = tokenizer.batch_decode(preds, skip_special_tokens=True)\n",
    "\n",
    "    # Replace -100 in the labels as we can't decode them.\n",
    "    labels = np.where(labels != -100, labels, tokenizer.pad_token_id)\n",
    "    decoded_labels = tokenizer.batch_decode(labels, skip_special_tokens=True)\n",
    "\n",
    "    # Rouge expects a newline after each sentence\n",
    "    decoded_preds = [\"\\n\".join(nltk.sent_tokenize(pred.strip())) for pred in decoded_preds]\n",
    "    decoded_labels = [\"\\n\".join(nltk.sent_tokenize(label.strip())) for label in decoded_labels]\n",
    "\n",
    "    result = metric.compute(predictions=decoded_preds, references=decoded_labels, use_stemmer=True)\n",
    "\n",
    "    # Extract a few results\n",
    "    result = {key: value.mid.fmeasure * 100 for key, value in result.items()}\n",
    "\n",
    "    # Add mean generated length\n",
    "    prediction_lens = [np.count_nonzero(pred != tokenizer.pad_token_id) for pred in predictions]\n",
    "    result[\"gen_len\"] = np.mean(prediction_lens)\n",
    "\n",
    "    return {k: round(v, 4) for k, v in result.items()}\n"
   ]
  },
  {
   "cell_type": "code",
   "execution_count": null,
   "metadata": {
    "id": "yYkKpD2-UC-N"
   },
   "outputs": [],
   "source": [
    "import torch"
   ]
  },
  {
   "cell_type": "code",
   "execution_count": null,
   "metadata": {
    "id": "YXDtqwvNR0lA",
    "outputId": "64eef27b-eaac-4ab9-994f-6ea14cbb17ef"
   },
   "outputs": [],
   "source": [
    "if torch.cuda.is_available():\n",
    "    device = torch.device(\"cuda\")\n",
    "    print(\"GPU is available and being used\")\n",
    "else:\n",
    "    device = torch.device(\"cpu\")\n",
    "    print(\"GPU is not available, using CPU instead\")\n"
   ]
  },
  {
   "cell_type": "code",
   "execution_count": null,
   "metadata": {
    "execution": {
     "iopub.execute_input": "2023-10-02T08:06:25.690001Z",
     "iopub.status.busy": "2023-10-02T08:06:25.687061Z",
     "iopub.status.idle": "2023-10-02T08:06:25.706878Z",
     "shell.execute_reply": "2023-10-02T08:06:25.705742Z",
     "shell.execute_reply.started": "2023-10-02T08:06:25.689969Z"
    },
    "id": "_EYpD-ZDR3Kp"
   },
   "outputs": [],
   "source": [
    "model_name = MODEL_CHECKPOINT.split(\"/\")[-1]\n",
    "# output_dir = \"/kaggle/working/Model/\"\n",
    "\n",
    "args = Seq2SeqTrainingArguments(\n",
    "    output_dir=\"./financial_report_summarization\",\n",
    "    evaluation_strategy=\"epoch\",\n",
    "    learning_rate=LEARNING_RATE,\n",
    "    per_device_train_batch_size=BATCH_SIZE,\n",
    "    per_device_eval_batch_size=BATCH_SIZE,\n",
    "    weight_decay=0.01,\n",
    "    save_total_limit=3,\n",
    "    num_train_epochs=MAX_EPOCHS,\n",
    "    predict_with_generate=True,\n",
    "    fp16=True\n",
    ")"
   ]
  },
  {
   "cell_type": "code",
   "execution_count": null,
   "metadata": {
    "execution": {
     "iopub.execute_input": "2023-10-02T08:06:25.713448Z",
     "iopub.status.busy": "2023-10-02T08:06:25.710998Z",
     "iopub.status.idle": "2023-10-02T08:06:25.724709Z",
     "shell.execute_reply": "2023-10-02T08:06:25.723647Z",
     "shell.execute_reply.started": "2023-10-02T08:06:25.713412Z"
    },
    "id": "3nhxFnmiSBBS",
    "outputId": "396813b2-342e-40e8-ccb2-72e3a30fc0de"
   },
   "outputs": [],
   "source": [
    "# !pip install -U accelerate -q\n",
    "import accelerate\n",
    "accelerate.__version__"
   ]
  },
  {
   "cell_type": "code",
   "execution_count": null,
   "metadata": {
    "execution": {
     "iopub.execute_input": "2023-10-02T08:06:25.732153Z",
     "iopub.status.busy": "2023-10-02T08:06:25.729558Z",
     "iopub.status.idle": "2023-10-02T08:06:25.839731Z",
     "shell.execute_reply": "2023-10-02T08:06:25.838616Z",
     "shell.execute_reply.started": "2023-10-02T08:06:25.732116Z"
    },
    "id": "Hei1zT_4Sv9A"
   },
   "outputs": [],
   "source": [
    "trainer = Seq2SeqTrainer(\n",
    "    model.to(device),\n",
    "    args,\n",
    "    train_dataset=tokenized_train,\n",
    "    eval_dataset=tokenized_test,\n",
    "    data_collator=data_collator,\n",
    "    tokenizer=tokenizer,\n",
    "    compute_metrics=compute_metrics\n",
    ")\n"
   ]
  },
  {
   "cell_type": "code",
   "execution_count": null,
   "metadata": {
    "execution": {
     "iopub.execute_input": "2023-10-02T08:06:25.846114Z",
     "iopub.status.busy": "2023-10-02T08:06:25.844549Z"
    }
   },
   "outputs": [],
   "source": [
    "trainer.train()\n",
    "model.save\n",
    "model.save_pretrained(\"./financial_report_summarization\")\n",
    "tokenizer.save_pretrained(\"./financial_report_summarization\")"
   ]
  },
  {
   "cell_type": "code",
   "execution_count": null,
   "metadata": {},
   "outputs": [],
   "source": []
  },
  {
   "cell_type": "code",
   "execution_count": null,
   "metadata": {},
   "outputs": [],
   "source": [
    "predict_results = trainer.predict(tokenized_test,max_length=128, num_beams=3)"
   ]
  },
  {
   "cell_type": "code",
   "execution_count": null,
   "metadata": {},
   "outputs": [],
   "source": [
    "if args.predict_with_generate:\n",
    "    # Replace -100 with pad_token_id in predictions\n",
    "    preds = np.where(predict_results.predictions != -100, predict_results.predictions, tokenizer.pad_token_id)\n",
    "    # Decode batched predictions into text, skipping special tokens and cleaning up spaces\n",
    "    predictions = tokenizer.batch_decode(preds, skip_special_tokens=True, clean_up_tokenization_spaces=True)\n",
    "    # Strip leading/trailing spaces from each prediction\n",
    "    predictions = [pred.strip() for pred in predictions]\n"
   ]
  },
  {
   "cell_type": "code",
   "execution_count": null,
   "metadata": {},
   "outputs": [],
   "source": [
    "test['summary'][:2]"
   ]
  },
  {
   "cell_type": "code",
   "execution_count": null,
   "metadata": {},
   "outputs": [],
   "source": [
    "predictions[:2]"
   ]
  },
  {
   "cell_type": "code",
   "execution_count": null,
   "metadata": {},
   "outputs": [],
   "source": [
    "model.save(\"./Saved_model\")"
   ]
  }
 ],
 "metadata": {
  "kernelspec": {
   "display_name": "Python 3 (ipykernel)",
   "language": "python",
   "name": "python3"
  },
  "language_info": {
   "codemirror_mode": {
    "name": "ipython",
    "version": 3
   },
   "file_extension": ".py",
   "mimetype": "text/x-python",
   "name": "python",
   "nbconvert_exporter": "python",
   "pygments_lexer": "ipython3",
   "version": "3.11.4"
  }
 },
 "nbformat": 4,
 "nbformat_minor": 4
}
